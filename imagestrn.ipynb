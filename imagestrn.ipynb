{
 "cells": [
  {
   "cell_type": "code",
   "execution_count": null,
   "metadata": {},
   "outputs": [],
   "source": []
  },
  {
   "cell_type": "markdown",
   "metadata": {},
   "source": [
    "## Reading data"
   ]
  },
  {
   "cell_type": "code",
   "execution_count": 48,
   "metadata": {},
   "outputs": [],
   "source": [
    "import pandas as pd"
   ]
  },
  {
   "cell_type": "code",
   "execution_count": 49,
   "metadata": {},
   "outputs": [],
   "source": [
    "df=pd.read_csv(\"imagestrn.csv\")\n",
    "#df"
   ]
  },
  {
   "cell_type": "code",
   "execution_count": 50,
   "metadata": {},
   "outputs": [],
   "source": [
    "mainhttpi= 'https://www.cs.toronto.edu/~vmnih/data/mass_roads/train/sat/'\n",
    "mainhttpt= 'https://www.cs.toronto.edu/~vmnih/data/mass_roads/train/map/'\n",
    "targetFiles= df.targetFiles\n",
    "inputFiles= df.inputFiles"
   ]
  },
  {
   "cell_type": "code",
   "execution_count": 51,
   "metadata": {},
   "outputs": [],
   "source": [
    "import numpy as np\n",
    "np.size(mainhttp)\n",
    "maxtar=np.size(targetFiles)\n",
    "maxinp=np.size(inputFiles)"
   ]
  },
  {
   "cell_type": "code",
   "execution_count": 52,
   "metadata": {},
   "outputs": [
    {
     "data": {
      "text/plain": [
       "'https://www.cs.toronto.edu/~vmnih/data/mass_roads/train/map/10078675_15.tif'"
      ]
     },
     "execution_count": 52,
     "metadata": {},
     "output_type": "execute_result"
    }
   ],
   "source": [
    "mainhttpt+targetFiles[1]"
   ]
  },
  {
   "cell_type": "code",
   "execution_count": 54,
   "metadata": {},
   "outputs": [
    {
     "name": "stdout",
     "output_type": "stream",
     "text": [
      "https://www.cs.toronto.edu/~vmnih/data/mass_roads/train/map/10078660_15.tif\n",
      "https://www.cs.toronto.edu/~vmnih/data/mass_roads/train/map/10078675_15.tif\n"
     ]
    }
   ],
   "source": [
    "import urllib.request\n",
    "\n",
    "for i in range(maxtar):\n",
    "    dirt=mainhttpt+targetFiles[i]\n",
    "    urllib.request.urlretrieve(dirt, \"C:/Users/fubs9/Sedeshu/folder1/\"+ targetFiles[i])\n",
    "    #print(dirt)"
   ]
  },
  {
   "cell_type": "code",
   "execution_count": null,
   "metadata": {},
   "outputs": [],
   "source": [
    "for i in range(maxinp):\n",
    "    diri=mainhttpi+inputFiles[i]\n",
    "    urllib.request.urlretrieve(diri, \"C:/Users/fubs9/Sedeshu/folder1/\"+ inputFiles[i])\n",
    "    #print(diri)"
   ]
  },
  {
   "cell_type": "code",
   "execution_count": null,
   "metadata": {},
   "outputs": [],
   "source": []
  }
 ],
 "metadata": {
  "kernelspec": {
   "display_name": "Python 3",
   "language": "python",
   "name": "python3"
  },
  "language_info": {
   "codemirror_mode": {
    "name": "ipython",
    "version": 3
   },
   "file_extension": ".py",
   "mimetype": "text/x-python",
   "name": "python",
   "nbconvert_exporter": "python",
   "pygments_lexer": "ipython3",
   "version": "3.6.7"
  }
 },
 "nbformat": 4,
 "nbformat_minor": 4
}
