{
 "cells": [
  {
   "cell_type": "markdown",
   "metadata": {},
   "source": [
    "## Reading data - Massachusetts Roads Dataset"
   ]
  },
  {
   "cell_type": "code",
   "execution_count": 1,
   "metadata": {},
   "outputs": [],
   "source": [
    "import pandas as pd"
   ]
  },
  {
   "cell_type": "code",
   "execution_count": 2,
   "metadata": {},
   "outputs": [
    {
     "data": {
      "text/html": [
       "<div>\n",
       "<style scoped>\n",
       "    .dataframe tbody tr th:only-of-type {\n",
       "        vertical-align: middle;\n",
       "    }\n",
       "\n",
       "    .dataframe tbody tr th {\n",
       "        vertical-align: top;\n",
       "    }\n",
       "\n",
       "    .dataframe thead th {\n",
       "        text-align: right;\n",
       "    }\n",
       "</style>\n",
       "<table border=\"1\" class=\"dataframe\">\n",
       "  <thead>\n",
       "    <tr style=\"text-align: right;\">\n",
       "      <th></th>\n",
       "      <th>inputFiles</th>\n",
       "      <th>targetFiles</th>\n",
       "    </tr>\n",
       "  </thead>\n",
       "  <tbody>\n",
       "    <tr>\n",
       "      <td>0</td>\n",
       "      <td>10078660_15.tiff</td>\n",
       "      <td>10078660_15.tif</td>\n",
       "    </tr>\n",
       "    <tr>\n",
       "      <td>1</td>\n",
       "      <td>10078675_15.tiff</td>\n",
       "      <td>10078675_15.tif</td>\n",
       "    </tr>\n",
       "    <tr>\n",
       "      <td>2</td>\n",
       "      <td>10078690_15.tiff</td>\n",
       "      <td>10078690_15.tif</td>\n",
       "    </tr>\n",
       "    <tr>\n",
       "      <td>3</td>\n",
       "      <td>10078705_15.tiff</td>\n",
       "      <td>10078705_15.tif</td>\n",
       "    </tr>\n",
       "    <tr>\n",
       "      <td>4</td>\n",
       "      <td>10078720_15.tiff</td>\n",
       "      <td>10078720_15.tif</td>\n",
       "    </tr>\n",
       "  </tbody>\n",
       "</table>\n",
       "</div>"
      ],
      "text/plain": [
       "         inputFiles      targetFiles\n",
       "0  10078660_15.tiff  10078660_15.tif\n",
       "1  10078675_15.tiff  10078675_15.tif\n",
       "2  10078690_15.tiff  10078690_15.tif\n",
       "3  10078705_15.tiff  10078705_15.tif\n",
       "4  10078720_15.tiff  10078720_15.tif"
      ]
     },
     "execution_count": 2,
     "metadata": {},
     "output_type": "execute_result"
    }
   ],
   "source": [
    "df = pd.read_csv(\"imagestrn.csv\")\n",
    "df.head()"
   ]
  },
  {
   "cell_type": "code",
   "execution_count": 3,
   "metadata": {},
   "outputs": [],
   "source": [
    "mainhttpi= 'https://www.cs.toronto.edu/~vmnih/data/mass_roads/train/sat/'\n",
    "mainhttpt= 'https://www.cs.toronto.edu/~vmnih/data/mass_roads/train/map/'\n",
    "targetFiles = df.targetFiles\n",
    "inputFiles = df.inputFiles"
   ]
  },
  {
   "cell_type": "code",
   "execution_count": 4,
   "metadata": {},
   "outputs": [],
   "source": [
    "import numpy as np\n",
    "np.size(mainhttpi)\n",
    "maxtar = np.size(targetFiles)\n",
    "maxinp = np.size(inputFiles)"
   ]
  },
  {
   "cell_type": "code",
   "execution_count": 5,
   "metadata": {},
   "outputs": [
    {
     "data": {
      "text/plain": [
       "'https://www.cs.toronto.edu/~vmnih/data/mass_roads/train/map/10078675_15.tif'"
      ]
     },
     "execution_count": 5,
     "metadata": {},
     "output_type": "execute_result"
    }
   ],
   "source": [
    "mainhttpt + targetFiles[1]"
   ]
  },
  {
   "cell_type": "code",
   "execution_count": 6,
   "metadata": {},
   "outputs": [
    {
     "name": "stdout",
     "output_type": "stream",
     "text": [
      "Requirement already satisfied: tqdm in d:\\users\\francisco\\utilities\\miniconda3\\envs\\torch\\lib\\site-packages (4.40.2)\n"
     ]
    }
   ],
   "source": [
    "# Using tqdm to show progress bar\n",
    "! pip install tqdm"
   ]
  },
  {
   "cell_type": "code",
   "execution_count": null,
   "metadata": {},
   "outputs": [
    {
     "name": "stderr",
     "output_type": "stream",
     "text": [
      "  2%|█▍                                                                           | 21/1108 [00:46<40:17,  2.22s/it]"
     ]
    }
   ],
   "source": [
    "from tqdm import tqdm\n",
    "import urllib.request\n",
    "\n",
    "# Reading targmdiret files\n",
    "for i in tqdm(range(maxtar), position=0, leave=True):\n",
    "    dirt = mainhttpt + targetFiles[i]\n",
    "    urllib.request.urlretrieve(dirt, \"data/target/\" + targetFiles[i])\n",
    "    #print(dirt)"
   ]
  },
  {
   "cell_type": "code",
   "execution_count": null,
   "metadata": {},
   "outputs": [],
   "source": [
    "# Reading input files\n",
    "for i in tqdm(range(maxinp), position=0, leave=True):\n",
    "    diri=mainhttpi+inputFiles[i]\n",
    "    urllib.request.urlretrieve(diri, \"data/input/\"+ inputFiles[i])\n",
    "    #print(diri)"
   ]
  }
 ],
 "metadata": {
  "kernelspec": {
   "display_name": "Python 3",
   "language": "python",
   "name": "python3"
  },
  "language_info": {
   "codemirror_mode": {
    "name": "ipython",
    "version": 3
   },
   "file_extension": ".py",
   "mimetype": "text/x-python",
   "name": "python",
   "nbconvert_exporter": "python",
   "pygments_lexer": "ipython3",
   "version": "3.7.4"
  }
 },
 "nbformat": 4,
 "nbformat_minor": 4
}
