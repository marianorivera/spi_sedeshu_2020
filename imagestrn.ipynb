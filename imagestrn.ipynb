{
 "cells": [
  {
   "cell_type": "markdown",
   "metadata": {},
   "source": [
    "## Reading data - Massachusetts Roads Dataset"
   ]
  },
  {
   "cell_type": "code",
   "execution_count": null,
   "metadata": {},
   "outputs": [],
   "source": [
    "import pandas as pd"
   ]
  },
  {
   "cell_type": "code",
   "execution_count": null,
   "metadata": {},
   "outputs": [],
   "source": [
    "df = pd.read_csv(\"imagestrn.csv\")\n",
    "df.head()"
   ]
  },
  {
   "cell_type": "code",
   "execution_count": null,
   "metadata": {},
   "outputs": [],
   "source": [
    "mainhttpi= 'https://www.cs.toronto.edu/~vmnih/data/mass_roads/train/sat/'\n",
    "mainhttpt= 'https://www.cs.toronto.edu/~vmnih/data/mass_roads/train/map/'\n",
    "targetFiles = df.targetFiles\n",
    "inputFiles = df.inputFiles"
   ]
  },
  {
   "cell_type": "code",
   "execution_count": null,
   "metadata": {},
   "outputs": [],
   "source": [
    "import numpy as np\n",
    "np.size(mainhttpi)\n",
    "maxtar = np.size(targetFiles)\n",
    "maxinp = np.size(inputFiles)"
   ]
  },
  {
   "cell_type": "code",
   "execution_count": null,
   "metadata": {},
   "outputs": [],
   "source": [
    "mainhttpt + targetFiles[1]"
   ]
  },
  {
   "cell_type": "code",
   "execution_count": null,
   "metadata": {},
   "outputs": [],
   "source": [
    "# Using tqdm to show progress bar\n",
    "! pip install tqdm"
   ]
  },
  {
   "cell_type": "code",
   "execution_count": null,
   "metadata": {},
   "outputs": [],
   "source": [
    "from tqdm import tqdm\n",
    "import urllib.request\n",
    "\n",
    "# Reading target files\n",
    "for i in tqdm(range(maxtar)):\n",
    "    dirt = mainhttpt + targetFiles[i]\n",
    "    urllib.request.urlretrieve(dirt, \"../\" + targetFiles[i])\n",
    "    #print(dirt)"
   ]
  },
  {
   "cell_type": "code",
   "execution_count": null,
   "metadata": {},
   "outputs": [],
   "source": [
    "# Reading input files\n",
    "for i in tqdm(range(maxinp)):\n",
    "    diri=mainhttpi+inputFiles[i]\n",
    "    urllib.request.urlretrieve(diri, \"../\"+ inputFiles[i])\n",
    "    #print(diri)"
   ]
  }
 ],
 "metadata": {
  "kernelspec": {
   "display_name": "Python 3",
   "language": "python",
   "name": "python3"
  },
  "language_info": {
   "codemirror_mode": {
    "name": "ipython",
    "version": 3
   },
   "file_extension": ".py",
   "mimetype": "text/x-python",
   "name": "python",
   "nbconvert_exporter": "python",
   "pygments_lexer": "ipython3",
   "version": "3.7.4"
  }
 },
 "nbformat": 4,
 "nbformat_minor": 4
}
