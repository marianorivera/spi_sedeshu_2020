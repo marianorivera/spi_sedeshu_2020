{
 "cells": [
  {
   "cell_type": "code",
   "execution_count": 20,
   "metadata": {},
   "outputs": [],
   "source": [
    "import urllib.request"
   ]
  },
  {
   "cell_type": "code",
   "execution_count": null,
   "metadata": {},
   "outputs": [],
   "source": [
    "from images import files, targetFiles\n",
    "\n",
    "mainhttp= 'http://www.cs.toronto.edu/~vmnih/data/mass_roads/train/sat/'\n",
    "\n",
    "imgURL = \"http://www.cs.toronto.edu/~vmnih/data/mass_roads/train/sat/10078660_15.tiff\"\n",
    "\n",
    "urllib.request.urlretrieve(imgURL, \"C:/Users/fubs9/Sedeshu/folder1/image1.jpg\")"
   ]
  }
 ],
 "metadata": {
  "kernelspec": {
   "display_name": "Python 3",
   "language": "python",
   "name": "python3"
  },
  "language_info": {
   "codemirror_mode": {
    "name": "ipython",
    "version": 3
   },
   "file_extension": ".py",
   "mimetype": "text/x-python",
   "name": "python",
   "nbconvert_exporter": "python",
   "pygments_lexer": "ipython3",
   "version": "3.7.4"
  }
 },
 "nbformat": 4,
 "nbformat_minor": 4
}
